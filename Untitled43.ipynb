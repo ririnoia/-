{
  "nbformat": 4,
  "nbformat_minor": 0,
  "metadata": {
    "colab": {
      "name": "Untitled43.ipynb",
      "provenance": [],
      "collapsed_sections": [],
      "toc_visible": true,
      "authorship_tag": "ABX9TyPDG1ygpMgvrGxbBbqsvlyn",
      "include_colab_link": true
    },
    "kernelspec": {
      "name": "python3",
      "display_name": "Python 3"
    },
    "language_info": {
      "name": "python"
    }
  },
  "cells": [
    {
      "cell_type": "markdown",
      "metadata": {
        "id": "view-in-github",
        "colab_type": "text"
      },
      "source": [
        "<a href=\"https://colab.research.google.com/github/ririnoia/-/blob/example/Untitled43.ipynb\" target=\"_parent\"><img src=\"https://colab.research.google.com/assets/colab-badge.svg\" alt=\"Open In Colab\"/></a>"
      ]
    },
    {
      "cell_type": "markdown",
      "metadata": {
        "id": "ftjZtHUECXsR"
      },
      "source": [
        "# 使用ライブラリ"
      ]
    },
    {
      "cell_type": "code",
      "metadata": {
        "id": "Bzmq0nHr2jw4"
      },
      "source": [
        "import random\n",
        "import numpy as np\n",
        "import sqlite3\n",
        "import pandas as pd"
      ],
      "execution_count": null,
      "outputs": []
    },
    {
      "cell_type": "markdown",
      "metadata": {
        "id": "57wWLoH0CnOI"
      },
      "source": [
        "# SQL(データベース操作)"
      ]
    },
    {
      "cell_type": "markdown",
      "metadata": {
        "id": "B4WuZbLsa1Dn"
      },
      "source": [
        "## テーブル作成"
      ]
    },
    {
      "cell_type": "code",
      "metadata": {
        "id": "BHN_Czj2TJPw"
      },
      "source": [
        "def sql_create(db_name): #データベース作成\n",
        "    con = sqlite3.connect(db_name) \n",
        "\n",
        "    cur = con.cursor()\n",
        "    cur.execute(\"create table if not exists eval(user_id verchar, game_id verchar, eval_data varchar);\") #評価データ\n",
        "    cur.execute(\"create table if not exists game(game_id verchar, game_name verchar);\") #ゲームのデータ\n",
        "    cur.execute(\"create table if not exists user(user_id verchar, user_name verchar);\") #ユーザーのデータ\n",
        "\n",
        "    con.close()"
      ],
      "execution_count": null,
      "outputs": []
    },
    {
      "cell_type": "markdown",
      "metadata": {
        "id": "JmFBSfb8RcLj"
      },
      "source": [
        "## テーブル削除"
      ]
    },
    {
      "cell_type": "code",
      "metadata": {
        "id": "iRB62KJ-oEC0"
      },
      "source": [
        "def sql_delete(db_name, table_name):\n",
        "    con = sqlite3.connect(db_name)\n",
        "\n",
        "    cur = con.cursor()\n",
        "    sql = \"drop table \"+ table_name + \";\"\n",
        "    cur.execute(sql)\n",
        "    \n",
        "    con.close()"
      ],
      "execution_count": null,
      "outputs": []
    },
    {
      "cell_type": "markdown",
      "metadata": {
        "id": "AxJ9hklrcQ4Q"
      },
      "source": [
        "## データ挿入\n"
      ]
    },
    {
      "cell_type": "code",
      "metadata": {
        "id": "KSsEnhVecaGb"
      },
      "source": [
        "def sql_insert(db_name, table_name , game_name):\n",
        "    con = sqlite3.connect(db_name)\n",
        "    cur = con.cursor()\n",
        "    for i in range(len(game_name)):\n",
        "        sql = \"insert into \" + table_name + \" values(?, ?)\"\n",
        "        con.execute(sql, [i, game_name[i]])\n",
        "    con.commit()\n",
        "\n",
        "    con.close()"
      ],
      "execution_count": null,
      "outputs": []
    },
    {
      "cell_type": "markdown",
      "metadata": {
        "id": "b2WUJD9E33ra"
      },
      "source": [
        "## テーブル確認(動きません)"
      ]
    },
    {
      "cell_type": "code",
      "metadata": {
        "id": "ELHAxrqA3gqK"
      },
      "source": [
        "def sql_check(db_name):\n",
        "    con = sqlite3.connect(db_name)\n",
        "    cur = con.cursor()\n",
        "\n",
        "    con.execute(\"select * from sqlite_master where type='table'\")\n",
        "    for row in cur.fetchall():\n",
        "        print(row)"
      ],
      "execution_count": null,
      "outputs": []
    },
    {
      "cell_type": "markdown",
      "metadata": {
        "id": "eR3ZzNsh4umU"
      },
      "source": [
        "##データベース表示\n"
      ]
    },
    {
      "cell_type": "code",
      "metadata": {
        "id": "P9YDWl4qMGbt"
      },
      "source": [
        "def sql_display(db_name, table_name):\n",
        "    con = sqlite3.connect(db_name)\n",
        "    cur = con.cursor()\n",
        "    sql = \"select * from \" + table_name\n",
        "    cur.execute(sql) \n",
        "    for row in cur: \n",
        "        print(row[0],row[1])     \n",
        "\n",
        "    con.close()"
      ],
      "execution_count": null,
      "outputs": []
    },
    {
      "cell_type": "markdown",
      "metadata": {
        "id": "R9g6IGq3YX3J"
      },
      "source": [
        "##データベースのテスト関数\n"
      ]
    },
    {
      "cell_type": "code",
      "metadata": {
        "id": "5onYOIYjuXBi"
      },
      "source": [
        "game_name = [\"Minecraft\", \"7 days to die\", \"Among us\", \"Undertale\", \"Cuphead\", \n",
        "             \"Fall Guys\", \"OneShot\", \"Slay the Spire\", \"Portal\", \"Valheim\"]"
      ],
      "execution_count": null,
      "outputs": []
    },
    {
      "cell_type": "code",
      "metadata": {
        "colab": {
          "base_uri": "https://localhost:8080/"
        },
        "id": "wnrvDzb4YIx5",
        "outputId": "b2197498-da03-438f-daef-e29e2a7a890a"
      },
      "source": [
        "sql_insert('test.db', \"game\", game_name)\n",
        "\n",
        "sql_display('test.db', \"game\")"
      ],
      "execution_count": null,
      "outputs": [
        {
          "output_type": "stream",
          "name": "stdout",
          "text": [
            "0 Minecraft\n",
            "1 7 days to die\n",
            "2 Among us\n",
            "3 Undertale\n",
            "4 Cuphead\n",
            "5 Fall Guys\n",
            "6 OneShot\n",
            "7 Slay the Spire\n",
            "8 Portal\n",
            "9 Valheim\n",
            "0 Minecraft\n",
            "1 7 days to die\n",
            "2 Among us\n",
            "3 Undertale\n",
            "4 Cuphead\n",
            "5 Fall Guys\n",
            "6 OneShot\n",
            "7 Slay the Spire\n",
            "8 Portal\n",
            "9 Valheim\n",
            "0 Minecraft\n",
            "1 7 days to die\n",
            "2 Among us\n",
            "3 Undertale\n",
            "4 Cuphead\n",
            "5 Fall Guys\n",
            "6 OneShot\n",
            "7 Slay the Spire\n",
            "8 Portal\n",
            "9 Valheim\n",
            "0 Minecraft\n",
            "1 7 days to die\n",
            "2 Among us\n",
            "3 Undertale\n",
            "4 Cuphead\n",
            "5 Fall Guys\n",
            "6 OneShot\n",
            "7 Slay the Spire\n",
            "8 Portal\n",
            "9 Valheim\n"
          ]
        }
      ]
    },
    {
      "cell_type": "markdown",
      "metadata": {
        "id": "bfhNNLwJYeTa"
      },
      "source": [
        "\n",
        "\n",
        "---\n",
        "\n",
        "\n",
        "\n",
        "\n"
      ]
    },
    {
      "cell_type": "markdown",
      "metadata": {
        "id": "YJtHO-ICYKUj"
      },
      "source": [
        "#推薦システム"
      ]
    },
    {
      "cell_type": "markdown",
      "metadata": {
        "id": "HWpd6X5CUZfU"
      },
      "source": [
        "\n",
        "仮置きの評価データ\n"
      ]
    },
    {
      "cell_type": "code",
      "metadata": {
        "id": "QOSGsAShLTYj"
      },
      "source": [
        "def temp_user(eval_width, user_num, game_num): #仮置きの評価データ\n",
        "    eval_data = np.random.randint(1,eval_data+1 ,size=[user_num, game_num])\n",
        "    return eval_data"
      ],
      "execution_count": null,
      "outputs": []
    },
    {
      "cell_type": "markdown",
      "metadata": {
        "id": "kcwYA34SVnrb"
      },
      "source": [
        "main関数\n"
      ]
    },
    {
      "cell_type": "code",
      "metadata": {
        "colab": {
          "base_uri": "https://localhost:8080/"
        },
        "id": "GXrM_QdK4hcW",
        "outputId": "8cedcf9b-d143-44b0-c965-6f7b47bd1fb7"
      },
      "source": [
        "array_col = 100 #ユーザー数\n",
        "array_row = 10 #ゲーム数\n",
        "comparison = 5 #遊んだことのないゲーム数\n",
        "sim_num = 4 #類似していると考えられる人数\n",
        "\n",
        "fav_deg = np.zeros(sim_num) #おすすめ度合\n",
        "cc = np.zeros(array_col - 1) #相関係数\n",
        "pd_cc = pd.DataFrame(cc)\n",
        "\n",
        "eval_data =  np.random.randint(1,6,size=[array_col, array_row])\n",
        "\n",
        "print(pd_cc)"
      ],
      "execution_count": null,
      "outputs": [
        {
          "output_type": "stream",
          "name": "stdout",
          "text": [
            "      0\n",
            "0   0.0\n",
            "1   0.0\n",
            "2   0.0\n",
            "3   0.0\n",
            "4   0.0\n",
            "..  ...\n",
            "94  0.0\n",
            "95  0.0\n",
            "96  0.0\n",
            "97  0.0\n",
            "98  0.0\n",
            "\n",
            "[99 rows x 1 columns]\n"
          ]
        }
      ]
    },
    {
      "cell_type": "code",
      "metadata": {
        "colab": {
          "base_uri": "https://localhost:8080/"
        },
        "id": "0UCkbbk1LIbz",
        "outputId": "6e901903-80ba-4448-cd07-504796669192"
      },
      "source": [
        "result=[]\n",
        "\n",
        "for i in range(array_col - 1):\n",
        "    target = eval_data[0][0 : array_row - comparison]\n",
        "    user = eval_data[i+1][0 : array_row - comparison]\n",
        "\n",
        "    result = np.corrcoef(target, user, rowvar=True)\n",
        "    pd_cc[0][i] = result[1][0]\n",
        "\n",
        "sort_cc = pd_cc.nlargest(sim_num, 0) #類似度高い順にする\n",
        "sort_index_cc = sort_cc.index.values\n",
        "\n"
      ],
      "execution_count": null,
      "outputs": [
        {
          "output_type": "stream",
          "name": "stdout",
          "text": [
            "40\n"
          ]
        }
      ]
    },
    {
      "cell_type": "code",
      "metadata": {
        "colab": {
          "base_uri": "https://localhost:8080/"
        },
        "id": "0hO3ByjBBOhP",
        "outputId": "f12c1700-de4c-47a6-b0a2-b62ea6fd4536"
      },
      "source": [
        " w = np.array([4, 3, 2, 1])\n",
        "\n",
        "fav1 = [eval_data[sort_index_cc[0]][5], eval_data[sort_index_cc[1]][5], \n",
        "        eval_data[sort_index_cc[2]][5], eval_data[sort_index_cc[3]][5]]\n",
        "\n",
        "fav2 = [eval_data[sort_index_cc[0]][6], eval_data[sort_index_cc[1]][6], \n",
        "        eval_data[sort_index_cc[2]][6], eval_data[sort_index_cc[3]][6]]\n",
        "\n",
        "fav3 = [eval_data[sort_index_cc[0]][7], eval_data[sort_index_cc[1]][7], \n",
        "        eval_data[sort_index_cc[2]][7], eval_data[sort_index_cc[3]][7]]\n",
        "\n",
        "fav4 = [eval_data[sort_index_cc[0]][8], eval_data[sort_index_cc[1]][8], \n",
        "        eval_data[sort_index_cc[2]][8], eval_data[sort_index_cc[3]][8]]\n",
        "\n",
        "fav5 = [eval_data[sort_index_cc[0]][9], eval_data[sort_index_cc[1]][9], \n",
        "        eval_data[sort_index_cc[2]][9], eval_data[sort_index_cc[3]][9]]\n",
        "\n",
        "print(np.average(fav1, weights=w))\n",
        "print(np.average(fav2, weights=w))\n",
        "print(np.average(fav3, weights=w))\n",
        "print(np.average(fav4, weights=w))\n",
        "print(np.average(fav5, weights=w))"
      ],
      "execution_count": null,
      "outputs": [
        {
          "output_type": "stream",
          "name": "stdout",
          "text": [
            "4.3\n",
            "2.2\n",
            "2.9\n",
            "2.5\n",
            "2.1\n"
          ]
        }
      ]
    },
    {
      "cell_type": "code",
      "metadata": {
        "colab": {
          "base_uri": "https://localhost:8080/"
        },
        "id": "whwXMtBg-JgR",
        "outputId": "49b83872-42d9-43de-865f-199572af15f9"
      },
      "source": [
        "print(eval_data[sort_index_cc[0]])\n",
        "for i in range(comparison):\n",
        "    tmp = np.zeros(sim_num)\n",
        "    for j in range()\n",
        "   "
      ],
      "execution_count": null,
      "outputs": [
        {
          "output_type": "stream",
          "name": "stdout",
          "text": [
            "[2 4 2 5 4 5 3 3 2 1]\n"
          ]
        }
      ]
    },
    {
      "cell_type": "code",
      "metadata": {
        "id": "7gPG7DTP6zsv",
        "colab": {
          "base_uri": "https://localhost:8080/"
        },
        "outputId": "3cbf16a1-37d0-4e3f-dd38-445741a857e5"
      },
      "source": [
        "\n",
        "\n",
        "target = [5,3,4,4]\n",
        "user1 = [3,1,2,3]\n",
        "user2 = [4,3,4,3]\n",
        "user3 = [3,3,1,5]\n",
        "user4 = [1,5,5,2]\n",
        "\n",
        "t1 = np.corrcoef(target, user1, rowvar=True)\n",
        "t2 = np.corrcoef(target, user2, rowvar=True)\n",
        "t3 = np.corrcoef(target, user3, rowvar=True)\n",
        "t4 = np.corrcoef(target, user4, rowvar=True)\n",
        "\n",
        "target\n",
        "\n",
        "\n"
      ],
      "execution_count": null,
      "outputs": [
        {
          "output_type": "execute_result",
          "data": {
            "text/plain": [
              "[5, 3, 4, 4]"
            ]
          },
          "metadata": {},
          "execution_count": 11
        }
      ]
    },
    {
      "cell_type": "code",
      "metadata": {
        "id": "uVwbVd49NcmD"
      },
      "source": [
        ""
      ],
      "execution_count": null,
      "outputs": []
    },
    {
      "cell_type": "markdown",
      "metadata": {
        "id": "nsgrP44XYbpu"
      },
      "source": [
        "#Webスクレイピング"
      ]
    },
    {
      "cell_type": "code",
      "metadata": {
        "id": "lw9xSTjFYi9T"
      },
      "source": [
        ""
      ],
      "execution_count": null,
      "outputs": []
    }
  ]
}