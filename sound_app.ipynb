{
  "nbformat": 4,
  "nbformat_minor": 0,
  "metadata": {
    "colab": {
      "name": "sound_app.ipynb",
      "provenance": [],
      "collapsed_sections": [],
      "toc_visible": true,
      "include_colab_link": true
    },
    "kernelspec": {
      "name": "python3",
      "display_name": "Python 3"
    }
  },
  "cells": [
    {
      "cell_type": "markdown",
      "metadata": {
        "id": "view-in-github",
        "colab_type": "text"
      },
      "source": [
        "<a href=\"https://colab.research.google.com/github/ririnoia/-/blob/master/sound_app.ipynb\" target=\"_parent\"><img src=\"https://colab.research.google.com/assets/colab-badge.svg\" alt=\"Open In Colab\"/></a>"
      ]
    },
    {
      "cell_type": "markdown",
      "metadata": {
        "id": "XrUcfYO28py2",
        "colab_type": "text"
      },
      "source": [
        "**おまじない?**"
      ]
    },
    {
      "cell_type": "code",
      "metadata": {
        "id": "EKCQEdcBkWxq",
        "colab_type": "code",
        "outputId": "36fc315e-a513-4b23-d053-79388b81934d",
        "colab": {
          "base_uri": "https://localhost:8080/",
          "height": 53
        }
      },
      "source": [
        "!pip install pyreaper"
      ],
      "execution_count": 0,
      "outputs": [
        {
          "output_type": "stream",
          "text": [
            "Requirement already satisfied: pyreaper in /usr/local/lib/python3.6/dist-packages (0.0.7)\n",
            "Requirement already satisfied: numpy>=1.8.0 in /usr/local/lib/python3.6/dist-packages (from pyreaper) (1.17.5)\n"
          ],
          "name": "stdout"
        }
      ]
    },
    {
      "cell_type": "code",
      "metadata": {
        "id": "jT9FtkT4bnJX",
        "colab_type": "code",
        "colab": {}
      },
      "source": [
        "import os\n",
        "import wave\n",
        "import numpy as np\n",
        "import matplotlib.pyplot as plt\n",
        "import scipy.fftpack\n",
        "import scipy.signal as sg\n",
        "from scipy.io import wavfile\n",
        "from IPython.display import Audio\n",
        "import pyreaper\n",
        "\n",
        "import librosa\n",
        "import librosa.display\n",
        "import librosa.feature\n",
        "import librosa.effects\n",
        "import librosa.onset\n",
        "import librosa.beat\n",
        "\n",
        "#sound_file = \"a.wav\"\n"
      ],
      "execution_count": 0,
      "outputs": []
    },
    {
      "cell_type": "markdown",
      "metadata": {
        "id": "VfO-QGGd8UDS",
        "colab_type": "text"
      },
      "source": [
        "**波形**"
      ]
    },
    {
      "cell_type": "code",
      "metadata": {
        "id": "LnpShp8EKKTV",
        "colab_type": "code",
        "colab": {}
      },
      "source": [
        "\"\"\"\n",
        "wf = wave.open(sound_file, \"rb\")\n",
        "ch = wf.getnchannels() #チャンネル数\n",
        "ssize = wf.getsampwidth() #サンプルの大きさ\n",
        "srate = wf.getframerate() #サンプリングレート\n",
        "data = wf.readframes(flame)#データ\n",
        "Adata = np.frombuffer(data, dtype=\"int16\" % (8 * ssize)) #データの表　\n",
        "\"\"\"\n",
        "def info(sound_file):\n",
        "  wf = wave.open(sound_file, \"rb\")\n",
        "  flame = wf.getnframes()\n",
        "  wf.close()\n",
        "\n",
        "  srate, data = wavfile.read(sound_file)\n",
        "  #data,srate = librosa.load(sound_file)\n",
        "\n",
        "  pm_times, pm, f0_times, f0, corr = pyreaper.reaper(data, srate)\n",
        "  print(flame)\n",
        "  print(f0[15])\n",
        "\n",
        "  plt.subplot(211)\n",
        "  plt.plot(pm_times,pm,label=\"PitchMark\")\n",
        "  plt.legend()\n",
        "\n",
        "  plt.subplot(212)\n",
        "  plt.plot(f0_times,f0,label=\"f0\")\n",
        "  plt.legend()\n",
        "\n",
        "  plt.show()\n",
        "  data = np.frombuffer(data, dtype=\"int16\") /32768 #正規化\n",
        "  return(srate,data,pm_times, pm, f0_times, f0, corr)"
      ],
      "execution_count": 0,
      "outputs": []
    },
    {
      "cell_type": "markdown",
      "metadata": {
        "id": "mZO0Fch89JOb",
        "colab_type": "text"
      },
      "source": [
        "**基本周波数**"
      ]
    },
    {
      "cell_type": "code",
      "metadata": {
        "id": "YH7xP04CZ0ip",
        "colab_type": "code",
        "colab": {}
      },
      "source": [
        "def fre(pm_times, pm, f0_times, f0):\n",
        "  n = 0\n",
        "  i = 0\n",
        "  flag = 0\n",
        "  sum_f0 = 0\n",
        "\n",
        "  \"\"\"\n",
        "  print(len(f0))\n",
        "  print(len(pm_times))\n",
        "  print(len(f0_times))\n",
        "  \"\"\"\n",
        "  while n<len(pm):\n",
        "    if pm[n]==1:\n",
        "      pm_start = n\n",
        "      break\n",
        "    n = n+1\n",
        "  #print(pm_start)\n",
        "  start=pm_times[pm_start]\n",
        "  #print(start)\n",
        "\n",
        "  n=0\n",
        "\n",
        "  while n<len(f0_times):\n",
        "    if f0_times[n]>=start:\n",
        "      start=n\n",
        "      break\n",
        "    n = n+1\n",
        "\n",
        "  #print(n)\n",
        "\n",
        "  while n<len(f0):\n",
        "    sum_f0 = sum_f0+f0[n]\n",
        "    n = n+1\n",
        "    i = i+1\n",
        "  ave_f0 = sum_f0/i\n",
        "  Inter = librosa.hz_to_note(ave_f0)\n",
        "\n",
        "  #print(ave_f0)\n",
        "  #print(Inter)\n",
        "  return(ave_f0,Inter)"
      ],
      "execution_count": 0,
      "outputs": []
    },
    {
      "cell_type": "code",
      "metadata": {
        "id": "_OuMzkGdkdpi",
        "colab_type": "code",
        "colab": {}
      },
      "source": [
        "def fre(f0):\n",
        "  n = 0\n",
        "  i = 0\n",
        "  sum_f0 = 0\n",
        "\n",
        "  m_f0 = np.max(f0)\n",
        "  while n < len(f0):\n",
        "    if f0[n] > m_f0-40:\n",
        "      sum_f0 = sum_f0+f0[n]\n",
        "      i = i+1\n",
        "    n = n+1\n",
        "  ave_f0 = sum_f0/i\n",
        "  return (ave_f0)"
      ],
      "execution_count": 0,
      "outputs": []
    },
    {
      "cell_type": "markdown",
      "metadata": {
        "id": "cikzcmz3_5iF",
        "colab_type": "text"
      },
      "source": [
        "**フーリエ変換**"
      ]
    },
    {
      "cell_type": "code",
      "metadata": {
        "id": "B10Ms9la_5FU",
        "colab_type": "code",
        "colab": {}
      },
      "source": [
        "\"\"\"\n",
        "def FFT(data)\n",
        "  FFT = np.fft.fft(data)\n",
        "  fList = np.fft.fftfreq(N, d=1.0/flame) \n",
        "\n",
        "  AS = [np.sqrt(c.real ** 2 + c.imag ** 2) for c in FFT]  # 振幅スペクトル\n",
        "\n",
        "  max_value = max(AS)\n",
        "  max_index = AS.index(max_value)\n",
        "  return(fList[max_value])\n",
        "\"\"\""
      ],
      "execution_count": 0,
      "outputs": []
    },
    {
      "cell_type": "markdown",
      "metadata": {
        "id": "qFpP6Bs5xsiO",
        "colab_type": "text"
      },
      "source": [
        "**実行部分**"
      ]
    },
    {
      "cell_type": "code",
      "metadata": {
        "id": "Nun5K-6cgM7q",
        "colab_type": "code",
        "outputId": "390db507-69f5-4a82-e665-27abf09b0258",
        "colab": {
          "base_uri": "https://localhost:8080/",
          "height": 375
        }
      },
      "source": [
        "path = 'SoundSample/'\n",
        "files = []\n",
        "\n",
        "for x in os.listdir(path):\n",
        "    if os.path.isfile(path + x):\n",
        "        files.append(x) \n",
        "\n",
        "#print(files)\n",
        "\n",
        "for name in files:\n",
        "  srate,data,pm_times, pm, f0_times, f0, corr = info(\"SoundSample/\"+name)\n",
        "  sound_f0 = fre(f0)\n",
        "  print(sound_f0)"
      ],
      "execution_count": 0,
      "outputs": [
        {
          "output_type": "stream",
          "text": [
            "/usr/local/lib/python3.6/dist-packages/ipykernel_launcher.py:14: WavFileWarning: Chunk (non-data) not understood, skipping it.\n",
            "  \n"
          ],
          "name": "stderr"
        },
        {
          "output_type": "stream",
          "text": [
            "14109\n",
            "469.14893\n"
          ],
          "name": "stdout"
        },
        {
          "output_type": "display_data",
          "data": {
            "image/png": "[encoded data removed]",
            "text/plain": [
              "<Figure size 432x288 with 2 Axes>"
            ]
          },
          "metadata": {
            "tags": []
          }
        },
        {
          "output_type": "stream",
          "text": [
            "443.6980732509068\n"
          ],
          "name": "stdout"
        }
      ]
    }
  ]
}